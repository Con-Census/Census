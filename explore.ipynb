{
 "cells": [
  {
   "cell_type": "code",
   "execution_count": 8,
   "id": "6f7bb2cc",
   "metadata": {},
   "outputs": [],
   "source": [
    "# import os and csv functions\n",
    "import os\n",
    "import csv\n",
    "# import libaries\n",
    "import pandas as pd\n",
    "import numpy as np\n",
    "from tabulate import tabulate\n",
    "from datetime import datetime\n",
    "from sklearn.impute import SimpleImputer\n",
    "from tabula import read_pdf\n",
    "from sklearn.model_selection import train_test_split\n",
    "import scipy.stats as stats\n",
    "import math\n",
    "import seaborn as sns\n",
    "import matplotlib.pyplot as plt\n",
    "import plotly.express as px\n",
    "# utilized for creating models and visualization\n",
    "from sklearn.tree import DecisionTreeClassifier, plot_tree\n",
    "from sklearn.linear_model import LogisticRegression\n",
    "from sklearn.ensemble import RandomForestClassifier\n",
    "from sklearn.neighbors import KNeighborsClassifier\n",
    "# utilized for metrics on my models\n",
    "from sklearn.metrics import confusion_matrix, classification_report, ConfusionMatrixDisplay\n",
    "# ignore warnings\n",
    "import warnings\n",
    "warnings.filterwarnings(\"ignore\")\n",
    "# Homemade module\n",
    "import prepare\n",
    "# explore.py\n",
    "import scipy.stats\n",
    "import modeling"
   ]
  },
  {
   "cell_type": "code",
   "execution_count": 2,
   "id": "0a3e9270",
   "metadata": {},
   "outputs": [],
   "source": [
    "df=prepare.get_fema_data()"
   ]
  },
  {
   "cell_type": "code",
   "execution_count": 3,
   "id": "dc2bea7a",
   "metadata": {},
   "outputs": [],
   "source": [
    "df=prepare.prep_fema(df)"
   ]
  },
  {
   "cell_type": "code",
   "execution_count": 5,
   "id": "78a6b9fd",
   "metadata": {},
   "outputs": [],
   "source": [
    "# split df into test (20%) and train_validate (80%)\n",
    "tv_df, test = train_test_split(df, test_size=0.2, random_state=123)\n",
    "# split train_validate off into train (70% of 80% = 56%) and validate (30% of 80% = 24%)\n",
    "train, validate = train_test_split(tv_df, test_size=0.3, random_state=123)"
   ]
  },
  {
   "cell_type": "code",
   "execution_count": 4,
   "id": "661c11e1",
   "metadata": {},
   "outputs": [],
   "source": [
    "def mapp(df):\n",
    "    fig = px.choropleth(df,\n",
    "                        locations='state', \n",
    "                        locationmode=\"USA-states\", \n",
    "                        scope=\"usa\",\n",
    "                        color='support_level',\n",
    "                        color_continuous_scale=\"\", \n",
    "                        )\n",
    "    fig.show()"
   ]
  },
  {
   "cell_type": "code",
   "execution_count": 11,
   "id": "b10055b4",
   "metadata": {},
   "outputs": [],
   "source": [
    "def explore1(q1):\n",
    "    # bin the risk level to identify whether the higher the risk the higher the funding\n",
    "    # bin the pop_level to identify whether the higher the population the higher the funding\n",
    "    q1['risk_bin'] = pd.qcut(q1.risk_score, 4, labels=['low', 'medium', 'high', 'extremely_high'])\n",
    "    q1['pop_bin'] = pd.qcut(q1.pop_density, 4, labels=['low', 'medium', 'high', 'extremely_high'])\n",
    "    # Use pointplot to determine the relationship between population and state funding\n",
    "    sns.pointplot(data=q1, x=\"pop_bin\", y=\"state_amount\", dodge=True)\n",
    "    plt.show()\n",
    "    # Use pointplot to determine the relationship between risk level and state funding\n",
    "    sns.pointplot(data=q1, x=\"risk_bin\", y=\"state_amount\", dodge=True)\n",
    "    plt.show()"
   ]
  },
  {
   "cell_type": "code",
   "execution_count": null,
   "id": "a109bb38",
   "metadata": {},
   "outputs": [],
   "source": [
    "def explore1m():\n",
    "    # depicted in graph\n",
    "    corr_matrix, p_matrix = scipy.stats.spearmanr(xyz, axis=0)\n",
    "    fig, ax = plt.subplots()\n",
    "    im = ax.imshow(corr_matrix)\n",
    "    im.set_clim(-1, 1)\n",
    "    ax.grid(False)\n",
    "    ax.xaxis.set(ticks=(0, 1, 2), ticklabels=('pop_den', 'risk', 'disaster_fund'))\n",
    "    ax.yaxis.set(ticks=(0, 1, 2), ticklabels=('pop_den', 'risk', 'disaster_fund'))\n",
    "    ax.set_ylim(2.5, -0.5)\n",
    "    cbar = ax.figure.colorbar(im, ax=ax, format='% .2f')\n",
    "    plt.show()"
   ]
  },
  {
   "cell_type": "code",
   "execution_count": 9,
   "id": "a81f66f0",
   "metadata": {},
   "outputs": [],
   "source": [
    "def explore2(q2):\n",
    "    # use joint plot to \n",
    "    g = sns.jointplot(data=q2, x=\"risk_score\", y=\"deficit\", hue='Region')\n",
    "    g.plot_joint(sns.kdeplot, color=\"r\", zorder=0, levels=6)\n",
    "    g.plot_marginals(sns.rugplot, color=\"r\", height=-.15, clip_on=False)\n",
    "    plt.show()"
   ]
  },
  {
   "cell_type": "code",
   "execution_count": 10,
   "id": "e9b9c6e0",
   "metadata": {},
   "outputs": [],
   "source": [
    "def explore2m(q2):\n",
    "    # Make a linear regression graph\n",
    "    y=q2.deficit\n",
    "    x=q2.risk_score\n",
    "    slope, intercept, r, p, stderr = scipy.stats.linregress(x, y)\n",
    "    line=f'Regression line: y={intercept:.2f}+{slope:.2f}, r={r:.2f}'\n",
    "    fig, ax = plt.subplots()\n",
    "    ax.plot(x, y, linewidth=0, marker='s', label='Data points')\n",
    "    ax.plot(x, intercept + slope * x, label=line)\n",
    "    ax.set_xlabel('x')\n",
    "    ax.set_ylabel('y')\n",
    "    ax.legend(facecolor='white')\n",
    "    plt.show()"
   ]
  },
  {
   "cell_type": "code",
   "execution_count": null,
   "id": "746f592b",
   "metadata": {},
   "outputs": [],
   "source": []
  }
 ],
 "metadata": {
  "kernelspec": {
   "display_name": "Python 3 (ipykernel)",
   "language": "python",
   "name": "python3"
  },
  "language_info": {
   "codemirror_mode": {
    "name": "ipython",
    "version": 3
   },
   "file_extension": ".py",
   "mimetype": "text/x-python",
   "name": "python",
   "nbconvert_exporter": "python",
   "pygments_lexer": "ipython3",
   "version": "3.9.12"
  }
 },
 "nbformat": 4,
 "nbformat_minor": 5
}
